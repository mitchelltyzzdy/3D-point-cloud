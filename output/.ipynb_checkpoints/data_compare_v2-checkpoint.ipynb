{
 "cells": [
  {
   "cell_type": "markdown",
   "metadata": {},
   "source": [
    "## Teraki Assignment (michelle tang, may 2019)"
   ]
  },
  {
   "cell_type": "markdown",
   "metadata": {},
   "source": [
    "### Data Analysis with python"
   ]
  },
  {
   "cell_type": "code",
   "execution_count": 1,
   "metadata": {},
   "outputs": [],
   "source": [
    "import numpy as np\n",
    "import matplotlib.pyplot as plt"
   ]
  },
  {
   "cell_type": "markdown",
   "metadata": {},
   "source": [
    "#### Read files into 2D array"
   ]
  },
  {
   "cell_type": "code",
   "execution_count": 13,
   "metadata": {},
   "outputs": [],
   "source": [
    "with open('dist_A.txt') as file:\n",
    "    array_A = np.array([[float(digit) for digit in line.split()] for line in file])"
   ]
  },
  {
   "cell_type": "code",
   "execution_count": 14,
   "metadata": {},
   "outputs": [],
   "source": [
    "with open('dist_B.txt') as file:\n",
    "    array_B = np.array([[float(digit) for digit in line.split()] for line in file])"
   ]
  },
  {
   "cell_type": "code",
   "execution_count": 15,
   "metadata": {},
   "outputs": [],
   "source": [
    "with open('dist_C.txt') as file:\n",
    "    array_C = np.array([[float(digit) for digit in line.split()] for line in file])"
   ]
  },
  {
   "cell_type": "markdown",
   "metadata": {},
   "source": [
    "#### Plot histogram of the distances"
   ]
  },
  {
   "cell_type": "code",
   "execution_count": 20,
   "metadata": {},
   "outputs": [],
   "source": [
    "dist_A = array_A[:,6]\n",
    "dist_B = array_B[:,6]\n",
    "dist_C = array_C[:,6]"
   ]
  },
  {
   "cell_type": "code",
   "execution_count": 21,
   "metadata": {},
   "outputs": [
    {
     "data": {
      "image/png": "[encoded data removed]",
      "text/plain": [
       "<Figure size 1440x216 with 3 Axes>"
      ]
     },
     "metadata": {},
     "output_type": "display_data"
    }
   ],
   "source": [
    "plt.figure(figsize=(20,3))\n",
    "\n",
    "plt.subplot(1, 3, 1)\n",
    "plt.hist(dist_A,bins=40)\n",
    "plt.title('A')\n",
    "\n",
    "plt.subplot(1, 3, 2)\n",
    "plt.hist(dist_B,bins=40)\n",
    "plt.title('B')\n",
    "\n",
    "plt.subplot(1, 3, 3)\n",
    "plt.hist(dist_C,bins=40)\n",
    "plt.title('C')\n",
    "\n",
    "plt.show()"
   ]
  },
  {
   "cell_type": "markdown",
   "metadata": {},
   "source": [
    "Even if I make the bin for B very very small (bin number = 100), I still see 3 major peak and 1 small peak. See project report for further analysis."
   ]
  },
  {
   "cell_type": "code",
   "execution_count": 46,
   "metadata": {},
   "outputs": [
    {
     "data": {
      "text/plain": [
       "Text(0.5,1,'B')"
      ]
     },
     "execution_count": 46,
     "metadata": {},
     "output_type": "execute_result"
    },
    {
     "data": {
      "image/png": "[encoded data removed]",
      "text/plain": [
       "<Figure size 360x216 with 1 Axes>"
      ]
     },
     "metadata": {},
     "output_type": "display_data"
    }
   ],
   "source": [
    "plt.figure(figsize=(5,3))\n",
    "\n",
    "plt.hist(dist_B,bins=100)\n",
    "plt.title('B')"
   ]
  },
  {
   "cell_type": "markdown",
   "metadata": {},
   "source": [
    "#### Calculate the mean and standard deviation"
   ]
  },
  {
   "cell_type": "code",
   "execution_count": 32,
   "metadata": {},
   "outputs": [
    {
     "name": "stdout",
     "output_type": "stream",
     "text": [
      "For decompression A, distance shifted is 0.009990256984352774 ± 0.002788212352339345\n"
     ]
    }
   ],
   "source": [
    "print(\"For decompression A, distance is \" + str(np.mean(dist_A)) + \" ± \" + str(np.std(dist_A)))"
   ]
  },
  {
   "cell_type": "code",
   "execution_count": 33,
   "metadata": {},
   "outputs": [
    {
     "name": "stdout",
     "output_type": "stream",
     "text": [
      "For decompression B, distance is 0.0014206548643907065 ± 0.00030695957930696014\n"
     ]
    }
   ],
   "source": [
    "print(\"For decompression B, distance is \" + str(np.mean(dist_B)) + \" ± \" + str(np.std(dist_B)))"
   ]
  },
  {
   "cell_type": "code",
   "execution_count": 34,
   "metadata": {},
   "outputs": [
    {
     "name": "stdout",
     "output_type": "stream",
     "text": [
      "For decompression C, distance is 0.055161861569464204 ± 0.019975700781285667\n"
     ]
    }
   ],
   "source": [
    "print(\"For decompression C, distance is \" + str(np.mean(dist_C)) + \" ± \" + str(np.std(dist_C)))"
   ]
  },
  {
   "cell_type": "markdown",
   "metadata": {},
   "source": [
    "#### Check duplicates in the pairing"
   ]
  },
  {
   "cell_type": "markdown",
   "metadata": {},
   "source": [
    "As mentioned in the project report, the C++ algorithm for pairing the points may leads to  the scenario where several uncompressed points pair up with one decompressed points.  This function checks if that happens or not."
   ]
  },
  {
   "cell_type": "code",
   "execution_count": 40,
   "metadata": {},
   "outputs": [],
   "source": [
    "def check_duplicate(dist_array):\n",
    "    \"\"\"Because the way I generate ouput file in c++, there may be duplicated points for decompressed data points(column3,4,5 of the output array).\n",
    "    Check if any two row has the same decompressed data points\n",
    "    \"\"\"\n",
    "    \n",
    "    count = 0\n",
    "    for i in range(len(dist_array)):\n",
    "        for j in range(i+1, len(dist_array)):\n",
    "            if ((dist_array[i][3]==dist_array[j][3]) & (dist_array[i][4]==dist_array[j][4]) & (dist_array[i][5]==dist_array[j][5])):\n",
    "                #print(\"i is:\" +str(i) )\n",
    "                #print(\"j is:\" +str(j) )\n",
    "                count = count+1\n",
    "                \n",
    "    if count == 0:\n",
    "        print(\"There's no duplicated points\")\n",
    "    else:\n",
    "        print(\"there are \"+ str(count) + \" duplicated points\")\n",
    "    "
   ]
  },
  {
   "cell_type": "code",
   "execution_count": 37,
   "metadata": {},
   "outputs": [
    {
     "name": "stdout",
     "output_type": "stream",
     "text": [
      "There's no duplicated points\n"
     ]
    }
   ],
   "source": [
    "check_duplicate(array_A)"
   ]
  },
  {
   "cell_type": "code",
   "execution_count": 38,
   "metadata": {},
   "outputs": [
    {
     "name": "stdout",
     "output_type": "stream",
     "text": [
      "There's no duplicated points\n"
     ]
    }
   ],
   "source": [
    "check_duplicate(array_B)"
   ]
  },
  {
   "cell_type": "code",
   "execution_count": 39,
   "metadata": {},
   "outputs": [
    {
     "name": "stdout",
     "output_type": "stream",
     "text": [
      "there are 1377duplicated points\n"
     ]
    }
   ],
   "source": [
    "check_duplicate(array_C)"
   ]
  },
  {
   "cell_type": "markdown",
   "metadata": {
    "scrolled": false
   },
   "source": [
    "Decompressed data A and B do not have duplicated points from the pairing function in C++, but data set C has a lot of duplicates.  See further analysis in project report."
   ]
  },
  {
   "cell_type": "code",
   "execution_count": null,
   "metadata": {},
   "outputs": [],
   "source": []
  }
 ],
 "metadata": {
  "kernelspec": {
   "display_name": "Python 3",
   "language": "python",
   "name": "python3"
  },
  "language_info": {
   "codemirror_mode": {
    "name": "ipython",
    "version": 3
   },
   "file_extension": ".py",
   "mimetype": "text/x-python",
   "name": "python",
   "nbconvert_exporter": "python",
   "pygments_lexer": "ipython3",
   "version": "3.6.5"
  }
 },
 "nbformat": 4,
 "nbformat_minor": 2
}
