{
 "cells": [
  {
   "cell_type": "markdown",
   "metadata": {},
   "source": [
    "## Teraki Assignment (michelle tang, may 2019)"
   ]
  },
  {
   "cell_type": "markdown",
   "metadata": {},
   "source": [
    "### Data Analysis with python"
   ]
  },
  {
   "cell_type": "code",
   "execution_count": 2,
   "metadata": {},
   "outputs": [],
   "source": [
    "import numpy as np\n",
    "import matplotlib.pyplot as plt"
   ]
  },
  {
   "cell_type": "markdown",
   "metadata": {},
   "source": [
    "#### Read files into 2D array"
   ]
  },
  {
   "cell_type": "code",
   "execution_count": 4,
   "metadata": {},
   "outputs": [],
   "source": [
    "with open('../output/dist_A.txt') as file:\n",
    "    array_A = np.array([[float(digit) for digit in line.split()] for line in file])"
   ]
  },
  {
   "cell_type": "code",
   "execution_count": 5,
   "metadata": {},
   "outputs": [
    {
     "data": {
      "text/plain": [
       "array([[ 1.10030e+01,  8.37800e+00,  2.50000e-01, ...,  8.37800e+00,\n",
       "         2.50000e-01,  0.00000e+00],\n",
       "       [ 1.09380e+01,  8.38300e+00,  2.50000e-01, ...,  8.37800e+00,\n",
       "         2.50000e-01,  7.07043e-03],\n",
       "       [ 1.08720e+01,  8.38700e+00,  2.50000e-01, ...,  8.37800e+00,\n",
       "         2.50000e-01,  1.27278e-02],\n",
       "       ...,\n",
       "       [ 6.98100e+00,  9.42900e+00, -1.85300e+00, ...,  9.42800e+00,\n",
       "        -1.86000e+00,  1.06769e-02],\n",
       "       [ 6.98200e+00,  8.30900e+00, -1.80100e+00, ...,  8.30800e+00,\n",
       "        -1.81000e+00,  1.27670e-02],\n",
       "       [ 6.96700e+00,  8.34500e+00, -1.80400e+00, ...,  8.33800e+00,\n",
       "        -1.81000e+00,  1.00497e-02]])"
      ]
     },
     "execution_count": 5,
     "metadata": {},
     "output_type": "execute_result"
    }
   ],
   "source": [
    "array_A"
   ]
  },
  {
   "cell_type": "code",
   "execution_count": 6,
   "metadata": {},
   "outputs": [],
   "source": [
    "with open('../output/dist_B.txt') as file:\n",
    "    array_B = np.array([[float(digit) for digit in line.split()] for line in file])"
   ]
  },
  {
   "cell_type": "code",
   "execution_count": 7,
   "metadata": {},
   "outputs": [
    {
     "data": {
      "text/plain": [
       "array([[ 1.10030000e+01,  8.37800030e+00,  2.50000000e-01, ...,\n",
       "         8.37699990e+00,  2.50000000e-01,  1.41449643e-03],\n",
       "       [ 1.09380000e+01,  8.38300040e+00,  2.50000000e-01, ...,\n",
       "         8.38300040e+00,  2.50000000e-01,  1.00000000e-03],\n",
       "       [ 1.08720000e+01,  8.38700010e+00,  2.50000000e-01, ...,\n",
       "         8.38600060e+00,  2.50000000e-01,  1.41386005e-03],\n",
       "       ...,\n",
       "       [ 6.98099990e+00,  9.42899990e+00, -1.85300000e+00, ...,\n",
       "         9.42800050e+00, -1.85400000e+00,  1.73135806e-03],\n",
       "       [ 6.98199990e+00,  8.30900000e+00, -1.80100000e+00, ...,\n",
       "         8.30800060e+00, -1.80100000e+00,  1.41343575e-03],\n",
       "       [ 6.96700000e+00,  8.34500030e+00, -1.80400000e+00, ...,\n",
       "         8.34500030e+00, -1.80499990e+00,  1.41407214e-03]])"
      ]
     },
     "execution_count": 7,
     "metadata": {},
     "output_type": "execute_result"
    }
   ],
   "source": [
    "array_B\n"
   ]
  },
  {
   "cell_type": "code",
   "execution_count": 8,
   "metadata": {},
   "outputs": [],
   "source": [
    "with open('../output/dist_C.txt') as file:\n",
    "    array_C = np.array([[float(digit) for digit in line.split()] for line in file])"
   ]
  },
  {
   "cell_type": "markdown",
   "metadata": {},
   "source": [
    "#### Plot histogram of the distances"
   ]
  },
  {
   "cell_type": "code",
   "execution_count": 9,
   "metadata": {},
   "outputs": [],
   "source": [
    "dist_A = array_A[:,6]\n",
    "dist_B = array_B[:,6]\n",
    "dist_C = array_C[:,6]"
   ]
  },
  {
   "cell_type": "code",
   "execution_count": 10,
   "metadata": {},
   "outputs": [
    {
     "data": {
      "image/png": "[encoded data removed]",
      "text/plain": [
       "<Figure size 1080x216 with 3 Axes>"
      ]
     },
     "metadata": {},
     "output_type": "display_data"
    }
   ],
   "source": [
    "plt.figure(figsize=(15,3))\n",
    "\n",
    "plt.subplot(1, 3, 1)\n",
    "plt.hist(dist_A,bins=40)\n",
    "plt.title('A')\n",
    "\n",
    "plt.subplot(1, 3, 2)\n",
    "plt.hist(dist_B,bins=40)\n",
    "plt.title('B')\n",
    "\n",
    "plt.subplot(1, 3, 3)\n",
    "plt.hist(dist_C,bins=40)\n",
    "plt.title('C')\n",
    "\n",
    "plt.show()"
   ]
  },
  {
   "cell_type": "markdown",
   "metadata": {},
   "source": [
    "Even if I make the bin for B very very small (bin number = 100), I still see 3 major peak and 1 small peak. See project report for further analysis."
   ]
  },
  {
   "cell_type": "code",
   "execution_count": 11,
   "metadata": {},
   "outputs": [
    {
     "data": {
      "text/plain": [
       "Text(0.5,1,'B')"
      ]
     },
     "execution_count": 11,
     "metadata": {},
     "output_type": "execute_result"
    },
    {
     "data": {
      "image/png": "[encoded data removed]",
      "text/plain": [
       "<Figure size 360x216 with 1 Axes>"
      ]
     },
     "metadata": {},
     "output_type": "display_data"
    }
   ],
   "source": [
    "plt.figure(figsize=(5,3))\n",
    "\n",
    "plt.hist(dist_B,bins=100)\n",
    "plt.title('B')"
   ]
  },
  {
   "cell_type": "markdown",
   "metadata": {},
   "source": [
    "#### Calculate the mean and standard deviation"
   ]
  },
  {
   "cell_type": "code",
   "execution_count": 12,
   "metadata": {},
   "outputs": [
    {
     "name": "stdout",
     "output_type": "stream",
     "text": [
      "For decompression A, distance is 0.009990256984352774 ± 0.002788212352339345\n"
     ]
    }
   ],
   "source": [
    "print(\"For decompression A, distance is \" + str(np.mean(dist_A)) + \" ± \" + str(np.std(dist_A)))"
   ]
  },
  {
   "cell_type": "code",
   "execution_count": 13,
   "metadata": {},
   "outputs": [
    {
     "name": "stdout",
     "output_type": "stream",
     "text": [
      "For decompression B, distance is 0.0014206542057088665 ± 0.00030695957260274125\n"
     ]
    }
   ],
   "source": [
    "print(\"For decompression B, distance is \" + str(np.mean(dist_B)) + \" ± \" + str(np.std(dist_B)))"
   ]
  },
  {
   "cell_type": "code",
   "execution_count": 14,
   "metadata": {},
   "outputs": [
    {
     "name": "stdout",
     "output_type": "stream",
     "text": [
      "For decompression C, distance is 0.055161861569464204 ± 0.019975700781285667\n"
     ]
    }
   ],
   "source": [
    "print(\"For decompression C, distance is \" + str(np.mean(dist_C)) + \" ± \" + str(np.std(dist_C)))"
   ]
  },
  {
   "cell_type": "code",
   "execution_count": 28,
   "metadata": {
    "scrolled": true
   },
   "outputs": [
    {
     "data": {
      "image/png": "[encoded data removed]",
      "text/plain": [
       "<Figure size 216x288 with 1 Axes>"
      ]
     },
     "metadata": {},
     "output_type": "display_data"
    }
   ],
   "source": [
    "plt.figure(figsize=(3,4))\n",
    "\n",
    "x = np.array([\"A\", \"B\", \"C\"])\n",
    "y = np.array([np.mean(dist_A), np.mean(dist_B), np.mean(dist_C)])\n",
    "e = np.array([np.std(dist_A), np.std(dist_B), np.std(dist_C)])\n",
    "\n",
    "\n",
    "plt.errorbar(x, y, e, linestyle='None', marker='s', markersize=10)\n",
    "\n",
    "plt.show()"
   ]
  },
  {
   "cell_type": "markdown",
   "metadata": {},
   "source": [
    "#### Check duplicates in the pairing"
   ]
  },
  {
   "cell_type": "markdown",
   "metadata": {},
   "source": [
    "As mentioned in the project report, the C++ algorithm for pairing the points may leads to  the scenario where several uncompressed points pair up with one decompressed points.  This function checks if that happens or not."
   ]
  },
  {
   "cell_type": "code",
   "execution_count": 22,
   "metadata": {},
   "outputs": [],
   "source": [
    "def check_duplicate(dist_array):\n",
    "    \"\"\"Because the way I generate ouput file in c++, there may be duplicated points for decompressed data points(column3,4,5 of the output array).\n",
    "    Check if any two row has the same decompressed data points\n",
    "    \"\"\"\n",
    "    \n",
    "    duplication = False\n",
    "    for i in range(len(dist_array)):\n",
    "        #print(\"i is:\" +str(i) )\n",
    "        #print(duplication)\n",
    "        for j in range(i+1, len(dist_array)):\n",
    "            if ((dist_array[i][3]==dist_array[j][3]) & (dist_array[i][4]==dist_array[j][4]) & (dist_array[i][5]==dist_array[j][5])):\n",
    "                #print(\"j is:\" +str(j) )\n",
    "                duplication = True\n",
    "                \n",
    "    if duplication == True:\n",
    "        print(\"There are duplications\")\n",
    "    else:\n",
    "        print(\"There's no duplicated points'\")\n",
    "    "
   ]
  },
  {
   "cell_type": "code",
   "execution_count": 23,
   "metadata": {},
   "outputs": [
    {
     "name": "stdout",
     "output_type": "stream",
     "text": [
      "There's no duplicated points'\n"
     ]
    }
   ],
   "source": [
    "check_duplicate(array_A)"
   ]
  },
  {
   "cell_type": "code",
   "execution_count": 24,
   "metadata": {},
   "outputs": [
    {
     "name": "stdout",
     "output_type": "stream",
     "text": [
      "There's no duplicated points'\n"
     ]
    }
   ],
   "source": [
    "check_duplicate(array_B)"
   ]
  },
  {
   "cell_type": "code",
   "execution_count": 25,
   "metadata": {},
   "outputs": [
    {
     "name": "stdout",
     "output_type": "stream",
     "text": [
      "There are duplications\n"
     ]
    }
   ],
   "source": [
    "check_duplicate(array_C)"
   ]
  },
  {
   "cell_type": "markdown",
   "metadata": {
    "scrolled": false
   },
   "source": [
    "Decompressed data A and B do not have duplicated points from the pairing function in C++, but data set C has a lot of duplicates.  See further analysis in project report."
   ]
  },
  {
   "cell_type": "code",
   "execution_count": null,
   "metadata": {},
   "outputs": [],
   "source": []
  }
 ],
 "metadata": {
  "kernelspec": {
   "display_name": "Python 3",
   "language": "python",
   "name": "python3"
  },
  "language_info": {
   "codemirror_mode": {
    "name": "ipython",
    "version": 3
   },
   "file_extension": ".py",
   "mimetype": "text/x-python",
   "name": "python",
   "nbconvert_exporter": "python",
   "pygments_lexer": "ipython3",
   "version": "3.6.5"
  }
 },
 "nbformat": 4,
 "nbformat_minor": 2
}
